{
 "cells": [
  {
   "cell_type": "markdown",
   "id": "afb3a760-1da4-4496-8d08-96678d915d19",
   "metadata": {},
   "source": [
    "<h2><b>Importing libraries</b></h2>"
   ]
  },
  {
   "cell_type": "code",
   "execution_count": null,
   "id": "4d0fa5c5-2f81-4712-94f3-c1f8787741ff",
   "metadata": {},
   "outputs": [],
   "source": [
    "from openai import OpenAI\n",
    "\n",
    "import cv2\n",
    "import base64\n",
    "import getpass\n",
    "import json\n",
    "import numpy as np"
   ]
  },
  {
   "cell_type": "markdown",
   "id": "e344e1d1-3f39-4723-93cc-b2cec849b678",
   "metadata": {},
   "source": [
    "<h2><b>Importing example image</b></h2>"
   ]
  },
  {
   "cell_type": "code",
   "execution_count": null,
   "id": "605814dc-3241-410f-b819-070a7c4883e7",
   "metadata": {},
   "outputs": [],
   "source": [
    "example_img = cv2.imread('example.png')\n",
    "\n",
    "height, width, _ = example_img.shape"
   ]
  },
  {
   "cell_type": "markdown",
   "id": "b424a0c1-1707-41eb-aacd-0e62c3b66743",
   "metadata": {},
   "source": [
    "<h2><b>Tool function & Tool description</b></h2>"
   ]
  },
  {
   "cell_type": "code",
   "execution_count": null,
   "id": "9fdb8edc-d460-4f80-b313-24185c273354",
   "metadata": {},
   "outputs": [],
   "source": [
    "cropping_tool = {\n",
    "    \"type\": \"function\",\n",
    "    \"function\": {\n",
    "        \"name\": \"crop_image\",\n",
    "        \"description\": \"Crops out part of the image in shape of rectangle, at chosen coordinates.\",\n",
    "        \"parameters\": {\n",
    "            \"type\": \"object\",\n",
    "            \"properties\": {\n",
    "                \"startX\": {\n",
    "                    \"type\": \"number\",\n",
    "                    \"description\": \"x coordinate of the rectangle top-left point\"\n",
    "                },\n",
    "                \"endX\": {\n",
    "                    \"type\": \"number\",\n",
    "                    \"description\": \"x coordinate of the rectangle bottom-right point\"\n",
    "                },\n",
    "                \"startY\": {\n",
    "                    \"type\": \"number\",\n",
    "                    \"description\": \"y coordinate of the rectangle top-left point\"\n",
    "                },\n",
    "                \"endY\": {\n",
    "                    \"type\": \"number\",\n",
    "                    \"description\": \"y coordinate of the rectangle bottom-right point\"\n",
    "                }\n",
    "            },\n",
    "            \"required\": [\"startX\", \"endX\", \"startY\", \"endY\"],\n",
    "            \"additionalProperties\": False\n",
    "        },\n",
    "        \"strict\": True\n",
    "    }\n",
    "}"
   ]
  },
  {
   "cell_type": "code",
   "execution_count": null,
   "id": "3ba3d22e-24c4-4d92-b43d-cc265bb89547",
   "metadata": {},
   "outputs": [],
   "source": [
    "def crop_image(image, sets_of_coordinates):\n",
    "    cropped_elements = []\n",
    "\n",
    "    for coordinates in sets_of_coordinates:\n",
    "        cropped_element = image[coordinates[2]:coordinates[3], coordinates[0]:coordinates[1]]\n",
    "        cropped_elements.append(cropped_element)\n",
    "    \n",
    "    return cropped_elements"
   ]
  },
  {
   "cell_type": "markdown",
   "id": "23f1a89b-09a4-44b6-bc83-b8f7f1bed0b8",
   "metadata": {},
   "source": [
    "<h2><b>Model setup</b></h2>"
   ]
  },
  {
   "cell_type": "code",
   "execution_count": null,
   "id": "41602acc-5e4f-4d28-ba17-2e79064939ee",
   "metadata": {},
   "outputs": [],
   "source": [
    "key = getpass.getpass(\"Enter API key for OpenAI:\")\n",
    "client = OpenAI(api_key=key)\n",
    "\n",
    "Model = \"gpt-4o-mini\"\n",
    "Max_tokens = 500"
   ]
  },
  {
   "cell_type": "markdown",
   "id": "51925288-3582-47ac-aa13-38729419d528",
   "metadata": {},
   "source": [
    "<h2><b>Initial system message & two-shot examples</b></h2>"
   ]
  },
  {
   "cell_type": "code",
   "execution_count": null,
   "id": "470ed02f-99f9-4f08-af4a-476c73b3ed67",
   "metadata": {},
   "outputs": [],
   "source": [
    "System_message = {\n",
    "    \"role\": \"developer\",\n",
    "    \"content\": [\n",
    "        {\n",
    "            \"type\": \"text\",\n",
    "            \"text\": \"You will be provided with an image of textbook page for learning Luxembourgish and the dimensions of the image (Width, Height).\\\n",
    "                     Your task is to analyze it, and decide if there are parts of the image (pictures, drawings, etc.) that can be usefull during the learning process of Luxembourgish.\\\n",
    "                     If you notice the relevant part of the image, call the crop_image tool with the correct parameters (x and y positions of top-left and bottom-right points).\\\n",
    "                     In the response, explain your decision.\"\n",
    "        }\n",
    "    ]\n",
    "}"
   ]
  },
  {
   "cell_type": "code",
   "execution_count": null,
   "id": "0399af8e-08d4-4252-9327-b2a30000e7ea",
   "metadata": {},
   "outputs": [],
   "source": [
    "example_image1 = cv2.imread(\"example1.jpg\")\n",
    "example_image2 = cv2.imread(\"example2.jpg\")\n",
    "\n",
    "example_data1 = \"498 736\" \n",
    "example_data2 = \"507 734\"\n",
    "\n",
    "_, buffer1 = cv2.imencode(\".jpg\", example_image1)\n",
    "_, buffer2 = cv2.imencode(\".jpg\", example_image2)\n",
    "\n",
    "example1_image_bytes = buffer1.tobytes()\n",
    "example2_image_bytes = buffer2.tobytes()\n",
    "\n",
    "example1_image_base64 = base64.b64encode(example1_image_bytes).decode(\"utf-8\")\n",
    "example2_image_base64 = base64.b64encode(example2_image_bytes).decode(\"utf-8\")"
   ]
  },
  {
   "cell_type": "code",
   "execution_count": null,
   "id": "109ce9ac-77fa-4a30-b422-68a9b24682a9",
   "metadata": {},
   "outputs": [],
   "source": [
    "Example_message1 = {\n",
    "        \"role\": \"user\",\n",
    "        \"content\": [\n",
    "            {\"type\": \"image_url\", \"image_url\": { \"url\": f\"data:image/jpeg;base64,{example1_image_base64}\"}},\n",
    "            {\"type\": \"text\", \"text\": example_data1}\n",
    "        ]\n",
    "    }\n",
    "Example_message2 = {\n",
    "        \"role\": \"user\",\n",
    "        \"content\": [\n",
    "            {\"type\": \"image_url\", \"image_url\": { \"url\": f\"data:image/jpeg;base64,{example2_image_base64}\"}},\n",
    "            {\"type\": \"text\", \"text\": example_data2}\n",
    "        ]\n",
    "    }"
   ]
  },
  {
   "cell_type": "code",
   "execution_count": null,
   "id": "a727d807-0b8a-4c39-ba2d-8427ca0f332b",
   "metadata": {},
   "outputs": [],
   "source": [
    "Example_response1 = {\n",
    "    \"role\": \"assistant\",\n",
    "    \"content\": \"The set of 4 consecutive images correspond to different birthday celebrations and are highly relevant to one of the exercises.\"\n",
    "}\n",
    "Example_response2 = {\n",
    "    \"role\": \"assistant\",\n",
    "    \"content\": \"The image shows a man walking next to the bakery. The clock on the left indicates that the picture is relevant to the exercise.\"\n",
    "}\n",
    "\n",
    "Example_function1 = {\n",
    "    \"role\": \"function\",\n",
    "    \"name\": \"crop_image\",\n",
    "    \"content\": \"{\\\"startX\\\": 74, \\\"endX\\\": 188, \\\"startY\\\": 98, \\\"endY\\\": 484}\",\n",
    "}\n",
    "Example_function2 = {\n",
    "    \"role\": \"function\",\n",
    "    \"name\": \"crop_image\",\n",
    "    \"content\": \"{\\\"startX\\\": 182, \\\"endX\\\": 258, \\\"startY\\\": 32, \\\"endY\\\": 134}\",\n",
    "}"
   ]
  },
  {
   "cell_type": "markdown",
   "id": "56dee2dd-1b70-4716-8273-14d8f775caba",
   "metadata": {},
   "source": [
    "<h2><b>Encoding the input data for the GPT model</b></h2>"
   ]
  },
  {
   "cell_type": "code",
   "execution_count": null,
   "id": "08099de4-b567-46b9-9394-1f48d38e6f3d",
   "metadata": {},
   "outputs": [],
   "source": [
    "data_string = str(width) + \" \" + str(height)\n",
    "\n",
    "_, buffer = cv2.imencode(\".jpg\", example_img)\n",
    "image_bytes = buffer.tobytes()\n",
    "\n",
    "image_base64 = base64.b64encode(image_bytes).decode(\"utf-8\")"
   ]
  },
  {
   "cell_type": "markdown",
   "id": "662c2131-fc6e-4a44-8c31-ce32c25b421a",
   "metadata": {},
   "source": [
    "<h2><b>Calling the GPT to analyze the image</b></h2>"
   ]
  },
  {
   "cell_type": "code",
   "execution_count": null,
   "id": "ca8e011b-8014-4b66-98a5-166c311d49cb",
   "metadata": {},
   "outputs": [],
   "source": [
    "User_message = {\n",
    "    \"role\": \"user\",\n",
    "    \"content\": [\n",
    "        {\n",
    "            \"type\": \"image_url\",\n",
    "            \"image_url\": {\n",
    "                \"url\": f\"data:image/jpeg;base64,{image_base64}\"\n",
    "            }\n",
    "        },\n",
    "        {\n",
    "            \"type\": \"text\",\n",
    "            \"text\": data_string\n",
    "        }\n",
    "    ]\n",
    "}\n",
    "\n",
    "response = client.chat.completions.create(\n",
    "    model = Model,\n",
    "    messages = [System_message, \n",
    "                Example_message1, Example_response1, Example_function1, \n",
    "                Example_message2, Example_response2, Example_function2, \n",
    "                User_message],\n",
    "    max_tokens = Max_tokens,\n",
    "    tools = [cropping_tool],\n",
    "    tool_choice=\"required\"\n",
    ")\n",
    "\n",
    "print(response.choices[0].message.content)"
   ]
  },
  {
   "cell_type": "markdown",
   "id": "1c0b7a7b-d3ae-4b7b-8293-d48a4883b846",
   "metadata": {},
   "source": [
    "<h2><b>Capturing the tools calls and saving the results</b></h2>"
   ]
  },
  {
   "cell_type": "code",
   "execution_count": null,
   "id": "573811b1-457c-4a43-b3f3-485e3d8facc7",
   "metadata": {},
   "outputs": [],
   "source": [
    "cropped_elements = []\n",
    "\n",
    "if response.choices[0].message.tool_calls is not None:\n",
    "    for i in range(len(response.choices[0].message.tool_calls)):\n",
    "        tool_call = response.choices[0].message.tool_calls[i]\n",
    "        \n",
    "        args = json.loads(tool_call.function.arguments) # Parsing the json arguments\n",
    "    \n",
    "        cropped_elements = crop_image(example_img, [[args[\"startX\"], args[\"endX\"], args[\"startY\"], args[\"endY\"]]]) "
   ]
  },
  {
   "cell_type": "code",
   "execution_count": null,
   "id": "7297ffb9-ebeb-4234-941c-ad2b9172c8b5",
   "metadata": {},
   "outputs": [],
   "source": [
    "for i in range(len(cropped_elements)):\n",
    "    cv2.imwrite(\"cropped_images/cropped_image\" + str(i + 1) + \".jpg\", cropped_elements[i])    "
   ]
  }
 ],
 "metadata": {
  "kernelspec": {
   "display_name": "Python 3 (ipykernel)",
   "language": "python",
   "name": "python3"
  },
  "language_info": {
   "codemirror_mode": {
    "name": "ipython",
    "version": 3
   },
   "file_extension": ".py",
   "mimetype": "text/x-python",
   "name": "python",
   "nbconvert_exporter": "python",
   "pygments_lexer": "ipython3",
   "version": "3.13.6"
  }
 },
 "nbformat": 4,
 "nbformat_minor": 5
}
